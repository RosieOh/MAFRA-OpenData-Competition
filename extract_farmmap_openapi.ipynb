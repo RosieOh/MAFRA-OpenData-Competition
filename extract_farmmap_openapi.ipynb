{
 "cells": [
  {
   "cell_type": "code",
   "execution_count": null,
   "metadata": {},
   "outputs": [],
   "source": [
    "from selenium import webdriver\n",
    "from selenium.webdriver.common.by import By\n",
    "from selenium.webdriver.support.ui import WebDriverWait\n",
    "from selenium.webdriver.support import expected_conditions as EC\n",
    "import json\n",
    "\n",
    "# Path to your WebDriver\n",
    "driver_path = '/path/to/chromedriver'\n",
    "\n",
    "# Initialize the WebDriver\n",
    "options = webdriver.ChromeOptions()\n",
    "options.add_argument('headless')  # Run in headless mode\n",
    "driver = webdriver.Chrome(executable_path=driver_path, options=options)\n",
    "\n",
    "# Load the HTML file\n",
    "driver.get('file:///mnt/data/apiData.html')\n",
    "\n",
    "# Simulate the button click\n",
    "button = driver.find_element(By.XPATH, \"//button[@onclick='javascript:getFarmmapDataSeachBjdAndLandCode();']\")\n",
    "button.click()\n",
    "\n",
    "# Wait for the data to be loaded (adjust the wait time and condition as necessary)\n",
    "wait = WebDriverWait(driver, 10)\n",
    "info_textarea = wait.until(EC.presence_of_element_located((By.ID, 'info')))\n",
    "\n",
    "# Extract the resulting data\n",
    "result_data = info_textarea.get_attribute('value')\n",
    "result_json = json.loads(result_data)\n",
    "\n",
    "# Add bjdCd data\n",
    "bjdCd_input = driver.find_element(By.ID, 'bjdCd4')\n",
    "bjdCd = bjdCd_input.get_attribute('value')\n",
    "result_json['bjdCd'] = bjdCd\n",
    "\n",
    "# Save the extracted data to a JSON file\n",
    "output_file = '/mnt/data/extracted_data.json'\n",
    "with open(output_file, 'w', encoding='utf-8') as jsonfile:\n",
    "    json.dump(result_json, jsonfile, ensure_ascii=False, indent=4)\n",
    "\n",
    "print(f'Data has been saved to {output_file}')\n",
    "\n",
    "# Close the WebDriver\n",
    "driver.quit()\n"
   ]
  },
  {
   "cell_type": "code",
   "execution_count": 29,
   "metadata": {},
   "outputs": [
    {
     "ename": "TypeError",
     "evalue": "WebDriver.__init__() got an unexpected keyword argument 'executable_path'",
     "output_type": "error",
     "traceback": [
      "\u001b[1;31m---------------------------------------------------------------------------\u001b[0m",
      "\u001b[1;31mTypeError\u001b[0m                                 Traceback (most recent call last)",
      "Cell \u001b[1;32mIn[29], line 15\u001b[0m\n\u001b[0;32m     12\u001b[0m options\u001b[38;5;241m.\u001b[39muse_chromium \u001b[38;5;241m=\u001b[39m \u001b[38;5;28;01mTrue\u001b[39;00m\n\u001b[0;32m     13\u001b[0m options\u001b[38;5;241m.\u001b[39madd_argument(\u001b[38;5;124m'\u001b[39m\u001b[38;5;124mheadless\u001b[39m\u001b[38;5;124m'\u001b[39m)  \u001b[38;5;66;03m# Run in headless mode\u001b[39;00m\n\u001b[1;32m---> 15\u001b[0m driver \u001b[38;5;241m=\u001b[39m \u001b[43mwebdriver\u001b[49m\u001b[38;5;241;43m.\u001b[39;49m\u001b[43mEdge\u001b[49m\u001b[43m(\u001b[49m\u001b[43mexecutable_path\u001b[49m\u001b[38;5;241;43m=\u001b[39;49m\u001b[43mdriver_path\u001b[49m\u001b[43m,\u001b[49m\u001b[43m \u001b[49m\u001b[43moptions\u001b[49m\u001b[38;5;241;43m=\u001b[39;49m\u001b[43moptions\u001b[49m\u001b[43m)\u001b[49m\n\u001b[0;32m     17\u001b[0m \u001b[38;5;66;03m# Load the HTML file\u001b[39;00m\n\u001b[0;32m     18\u001b[0m driver\u001b[38;5;241m.\u001b[39mget(\u001b[38;5;124m'\u001b[39m\u001b[38;5;124mfile:///./FarmOpenAPI/apiData.html\u001b[39m\u001b[38;5;124m'\u001b[39m)\n",
      "\u001b[1;31mTypeError\u001b[0m: WebDriver.__init__() got an unexpected keyword argument 'executable_path'"
     ]
    }
   ],
   "source": [
    "from selenium import webdriver\n",
    "from selenium.webdriver.common.by import By\n",
    "from selenium.webdriver.support.ui import WebDriverWait\n",
    "from selenium.webdriver.support import expected_conditions as EC\n",
    "import json\n",
    "\n",
    "# Path to your WebDriver (e.g., msedgedriver.exe)\n",
    "driver_path = 'C:/Users/3balb/edgedriver_win64/msedgedriver.exe'\n",
    "\n",
    "# Initialize the WebDriver\n",
    "options = webdriver.EdgeOptions()\n",
    "options.use_chromium = True\n",
    "options.add_argument('headless')  # Run in headless mode\n",
    "\n",
    "driver = webdriver.Edge(executable_path=driver_path, options=options)\n",
    "\n",
    "# Load the HTML file\n",
    "driver.get('file:///C:/Users/3balb/documents/github/Competition-Ministry-of-Agriculture-Food-and-Rural-Affairs-Open-Data-Startup-Contest/FarmOpenAPI/apiData.html')\n",
    "\n",
    "# Simulate the button click\n",
    "button = driver.find_element(By.XPATH, \"//button[@onclick='javascript:getFarmmapDataSeachBjdAndLandCode();']\")\n",
    "button.click()\n",
    "\n",
    "# Wait for the data to be loaded (adjust the wait time and condition as necessary)\n",
    "wait = WebDriverWait(driver, 10)\n",
    "info_textarea = wait.until(EC.presence_of_element_located((By.ID, 'info')))\n",
    "\n",
    "# Extract the resulting data\n",
    "result_data = info_textarea.get_attribute('value')\n",
    "result_json = json.loads(result_data)\n",
    "\n",
    "# Add bjdCd data\n",
    "bjdCd_input = driver.find_element(By.ID, 'bjdCd4')\n",
    "bjdCd = bjdCd_input.get_attribute('value')\n",
    "result_json['bjdCd'] = bjdCd\n",
    "\n",
    "# Save the extracted data to a JSON file\n",
    "output_file = '/mnt/data/extracted_data.json'\n",
    "with open(output_file, 'w', encoding='utf-8') as jsonfile:\n",
    "    json.dump(result_json, jsonfile, ensure_ascii=False, indent=4)\n",
    "\n",
    "print(f'Data has been saved to {output_file}')\n",
    "\n",
    "# Close the WebDriver\n",
    "driver.quit()\n"
   ]
  },
  {
   "cell_type": "code",
   "execution_count": null,
   "metadata": {},
   "outputs": [],
   "source": []
  }
 ],
 "metadata": {
  "kernelspec": {
   "display_name": "Python 3",
   "language": "python",
   "name": "python3"
  },
  "language_info": {
   "codemirror_mode": {
    "name": "ipython",
    "version": 3
   },
   "file_extension": ".py",
   "mimetype": "text/x-python",
   "name": "python",
   "nbconvert_exporter": "python",
   "pygments_lexer": "ipython3",
   "version": "3.11.9"
  }
 },
 "nbformat": 4,
 "nbformat_minor": 2
}
