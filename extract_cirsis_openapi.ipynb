{
 "cells": [
  {
   "cell_type": "code",
   "execution_count": 8,
   "metadata": {},
   "outputs": [],
   "source": [
    "import requests\n",
    "import csv\n",
    "\n",
    "def fetch_data(url, params):\n",
    "    response = requests.get(url, params=params)\n",
    "    response.raise_for_status()\n",
    "    return response.json()\n",
    "\n",
    "def extract_data(data):\n",
    "    extracted_info = []\n",
    "    body = data.get('body', [])\n",
    "    \n",
    "    for item in body:\n",
    "        extracted_info.append({\n",
    "            'FCLT_NM': item.get('FCLT_NM', ''),\n",
    "            'RONA_DADDR': item.get('RONA_DADDR', '')\n",
    "        })\n",
    "    \n",
    "    return extracted_info\n",
    "\n",
    "def save_to_csv(data, file_path):\n",
    "    with open(file_path, 'w', newline='', encoding='cp949') as csvfile:\n",
    "        fieldnames = ['FCLT_NM', 'RONA_DADDR']\n",
    "        writer = csv.DictWriter(csvfile, fieldnames=fieldnames)\n",
    "        \n",
    "        writer.writeheader()\n",
    "        for row in data:\n",
    "            writer.writerow(row)\n",
    "\n",
    "# Example usage\n",
    "base_url = 'https://www.safetydata.go.kr/V2/api/DSSP-IF-00058'\n",
    "params = {'serviceKey': 'Z37IF8F5ETG9UVQ9', 'numOfRows': 10}\n",
    "\n",
    "all_data = []\n",
    "total_pages = 53  # Assuming you know the total number of pages\n",
    "\n",
    "for page in range(1, total_pages + 1):\n",
    "    params['pageNo'] = page\n",
    "    data = fetch_data(base_url, params)\n",
    "    extracted_info = extract_data(data)\n",
    "    all_data.extend(extracted_info)\n",
    "\n",
    "csv_file_path = './data/crisis.csv'  # Change to your desired output CSV path\n",
    "save_to_csv(all_data, csv_file_path)\n"
   ]
  }
 ],
 "metadata": {
  "kernelspec": {
   "display_name": "Python 3",
   "language": "python",
   "name": "python3"
  },
  "language_info": {
   "codemirror_mode": {
    "name": "ipython",
    "version": 3
   },
   "file_extension": ".py",
   "mimetype": "text/x-python",
   "name": "python",
   "nbconvert_exporter": "python",
   "pygments_lexer": "ipython3",
   "version": "3.11.9"
  }
 },
 "nbformat": 4,
 "nbformat_minor": 2
}
